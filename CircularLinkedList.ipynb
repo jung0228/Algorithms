{
  "nbformat": 4,
  "nbformat_minor": 0,
  "metadata": {
    "colab": {
      "name": "CircularLinkedList",
      "provenance": [],
      "authorship_tag": "ABX9TyPFigRf1dNNK0WEjR7x+Hrl",
      "include_colab_link": true
    },
    "kernelspec": {
      "name": "python3",
      "display_name": "Python 3"
    },
    "language_info": {
      "name": "python"
    }
  },
  "cells": [
    {
      "cell_type": "markdown",
      "metadata": {
        "id": "view-in-github",
        "colab_type": "text"
      },
      "source": [
        "<a href=\"https://colab.research.google.com/github/jung0228/Algorithms/blob/main/CircularLinkedList.ipynb\" target=\"_parent\"><img src=\"https://colab.research.google.com/assets/colab-badge.svg\" alt=\"Open In Colab\"/></a>"
      ]
    },
    {
      "cell_type": "markdown",
      "source": [
        "# CircularLinkedList\n",
        "### LinkedList에서 나타난 문제점이 있습니다. 바로 append를 하기 위해서 맨 끝으로 가야 하는데 n번을 거쳐야 갈 수 있습니다. \n",
        "### 때문에 self.__head 대신에 self.__tail을 만들어주는 방법으로 이를 해결할 수 있습니다. \n",
        "### self.__tail.next가 계속해서 새로운 노드를 가리키고 self.__tail이 계속해서 움직이는 것으로 생각하면 된다. \n",
        "### 참고로 self.tail.next는 헤드(\"dummy\")이다."
      ],
      "metadata": {
        "id": "y3BBlZsKEXMZ"
      }
    },
    {
      "cell_type": "code",
      "source": [
        "class Node:\n",
        "  def __init__(self, item, next):\n",
        "    self.item = item\n",
        "    self.next = next"
      ],
      "metadata": {
        "id": "m8w8-3vLFjQy"
      },
      "execution_count": 73,
      "outputs": []
    },
    {
      "cell_type": "code",
      "execution_count": 89,
      "metadata": {
        "id": "-AbBrfYvETYx"
      },
      "outputs": [],
      "source": [
        "class CircularLinkedList:\n",
        "  def __init__(self):\n",
        "    print(\"원형 링크드 리스트가 정상적으로 생성되었습니다.\")\n",
        "    self.__tail = Node(\"dummy\", None)\n",
        "    self.__tail.next = self.__tail\n",
        "    self.__numItems = 0\n",
        "\n",
        "  def append(self, x):\n",
        "    print(f\"{x} 추가\")\n",
        "    # 새로운 노드의 next는 더미를 가리킨다.\n",
        "    newNode = Node(x, self.__tail.next)\n",
        "    # tail의 next를 새로운 노드로 옮겨준다.\n",
        "    self.__tail.next = newNode\n",
        "    # tail을 새로운 노드를 가리키게 하면 \n",
        "    # 새로운 노드는 더미를 가리키면서 추가되고 tail은 새로운 노드를 가리킨다.\n",
        "    self.__tail = newNode\n",
        "    self.__numItems += 1\n",
        "\n",
        "  def __xNode(self, x):\n",
        "    prev = self.__tail.next\n",
        "    curr = prev.next\n",
        "    while curr.item != \"dummy\":\n",
        "      if curr.item == x:\n",
        "        return prev, curr\n",
        "      curr = curr.next\n",
        "      prev = prev.next\n",
        "    \n",
        "    return None, None\n",
        "\n",
        "  def  __iNode(self, i:int):\n",
        "    # i == -1 이면 head를 반환해줄까?\n",
        "    if (i >=0 and i <= self.__numItems):\n",
        "      head = self.__tail.next\n",
        "      curr = head.next\n",
        "\n",
        "      for idx in range(i):\n",
        "        curr = curr.next\n",
        "      return curr\n",
        "    elif i == -1:\n",
        "      return self.__tail.next\n",
        "    else:\n",
        "      return None\n",
        "  def remove(self, x):\n",
        "    if self.__xNode(x) != (None, None):\n",
        "      prev, curr = self.__xNode(x)\n",
        "      print(f\"{curr.item} 제거\")\n",
        "      prev.next = curr.next\n",
        "      self.__numItems -= 1\n",
        "    else:\n",
        "      print(\"존재하지 않는 값입니다. 다시 입력해주세요\")\n",
        "      return None\n",
        "\n",
        "  def printNode(self):\n",
        "    head = self.__tail.next\n",
        "    curr = head.next\n",
        "    for i in range(self.__numItems):\n",
        "      print(curr.item, end=\" \")\n",
        "      curr = curr.next\n",
        "  \n",
        "  def pop(self, i):\n",
        "    print(f\"pop {i} 번째\")\n",
        "    if (i>=0 and i <= self.__numItems):\n",
        "      prev = self.__iNode(i-1)\n",
        "      curr = prev.next\n",
        "      item = curr.item\n",
        "      prev.next = curr.next\n",
        "      self.__numItems -= 1\n",
        "      return item\n",
        "    else:\n",
        "      print(\"존재하지 않는 인덱스 입니다. 다시 입력해주세요\")\n",
        "      return None\n",
        "\n",
        "  def insert(self, i, x):\n",
        "    print(f\"insert {i} 번째 {x} 아이템\")\n",
        "    if (i>=0 and i <= self.__numItems):\n",
        "      prev = self.__iNode(i-1)\n",
        "      curr = prev.next\n",
        "      newNode = Node(x, prev.next)\n",
        "      prev.next = newNode\n",
        "      self.__numItems += 1\n",
        "    else:\n",
        "      print(\"존재하지 않는 인덱스 입니다. 다시 입력해주세요\")"
      ]
    },
    {
      "cell_type": "code",
      "source": [
        "def main():\n",
        "  test_list = CircularLinkedList()\n",
        "  print(\"\\n\")\n",
        "\n",
        "\n",
        "  test_list.append(10)\n",
        "  test_list.append(29)\n",
        "  test_list.append(43)\n",
        "\n",
        "  test_list.printNode()\n",
        "  print(\"\\n\\n\")\n",
        "\n",
        "  test_list.remove(29)\n",
        "  test_list.printNode()\n",
        "  print(\"\\n\\n\")\n",
        "\n",
        "  test_list.remove(9999)\n",
        "  test_list.printNode()\n",
        "  print(\"\\n\\n\")\n",
        "\n",
        "  test_list.pop(0)\n",
        "  test_list.printNode()\n",
        "  print(\"\\n\\n\")\n",
        "\n",
        "  test_list.pop(-1)\n",
        "  test_list.printNode()\n",
        "  print(\"\\n\\n\")\n",
        "\n",
        "  test_list.insert(0, 410)\n",
        "  test_list.printNode()\n",
        "  print(\"\\n\\n\")\n",
        "\n",
        "  test_list.insert(1111, 9999)\n",
        "  test_list.printNode()\n",
        "  print(\"\\n\\n\")"
      ],
      "metadata": {
        "id": "wS5VwdKuEr1-"
      },
      "execution_count": 90,
      "outputs": []
    },
    {
      "cell_type": "code",
      "source": [
        "main()"
      ],
      "metadata": {
        "colab": {
          "base_uri": "https://localhost:8080/"
        },
        "id": "0ob6FPi3Io6y",
        "outputId": "4af999c6-ddf0-4745-aa86-418c9ab11686"
      },
      "execution_count": 91,
      "outputs": [
        {
          "output_type": "stream",
          "name": "stdout",
          "text": [
            "원형 링크드 리스트가 정상적으로 생성되었습니다.\n",
            "\n",
            "\n",
            "10 추가\n",
            "29 추가\n",
            "43 추가\n",
            "10 29 43 \n",
            "\n",
            "\n",
            "29 제거\n",
            "10 43 \n",
            "\n",
            "\n",
            "존재하지 않는 값입니다. 다시 입력해주세요\n",
            "10 43 \n",
            "\n",
            "\n",
            "pop 0 번째\n",
            "43 \n",
            "\n",
            "\n",
            "pop -1 번째\n",
            "존재하지 않는 인덱스 입니다. 다시 입력해주세요\n",
            "43 \n",
            "\n",
            "\n",
            "insert 0 번째 410 아이템\n",
            "410 43 \n",
            "\n",
            "\n",
            "insert 1111 번째 9999 아이템\n",
            "존재하지 않는 인덱스 입니다. 다시 입력해주세요\n",
            "410 43 \n",
            "\n",
            "\n"
          ]
        }
      ]
    },
    {
      "cell_type": "code",
      "source": [
        ""
      ],
      "metadata": {
        "id": "FDXaWLXUIp2R"
      },
      "execution_count": null,
      "outputs": []
    }
  ]
}