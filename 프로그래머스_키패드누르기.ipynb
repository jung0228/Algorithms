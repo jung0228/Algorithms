{
  "nbformat": 4,
  "nbformat_minor": 0,
  "metadata": {
    "colab": {
      "name": "키패드누르기.ipynb",
      "provenance": [],
      "authorship_tag": "ABX9TyMYrJYaz4Dn8N24mIbCwteu",
      "include_colab_link": true
    },
    "kernelspec": {
      "name": "python3",
      "display_name": "Python 3"
    },
    "language_info": {
      "name": "python"
    }
  },
  "cells": [
    {
      "cell_type": "markdown",
      "metadata": {
        "id": "view-in-github",
        "colab_type": "text"
      },
      "source": [
        "<a href=\"https://colab.research.google.com/github/jung0228/Algorithms/blob/main/%ED%94%84%EB%A1%9C%EA%B7%B8%EB%9E%98%EB%A8%B8%EC%8A%A4_%ED%82%A4%ED%8C%A8%EB%93%9C%EB%88%84%EB%A5%B4%EA%B8%B0.ipynb\" target=\"_parent\"><img src=\"https://colab.research.google.com/assets/colab-badge.svg\" alt=\"Open In Colab\"/></a>"
      ]
    },
    {
      "cell_type": "markdown",
      "source": [
        "\n",
        "\n",
        "\n",
        "1.   엄지손가락은 상하좌우 4가지 방향으로만 이동할 수 있으며 키패드 이동 한 칸은 거리로 1에 해당합니다.\n",
        "\n",
        "2.   왼쪽 열의 3개의 숫자 1, 4, 7을 입력할 때는 왼손 엄지손가락을 사용합니다\n",
        "\n",
        "3.   오른쪽 열의 3개의 숫자 3, 6, 9를 입력할 때는 오른손 엄지손가락을 사용합니다.\n",
        "4.   가운데 열의 4개의 숫자 2, 5, 8, 0을 입력할 때는 두 엄지손가락의 현재 키패드의 위치에서 더 가까운 엄지손가락을 사용합니다.\n",
        "\n",
        "5.  만약 두 엄지손가락의 거리가 같다면, 오른손잡이는 오른손 엄지손가락, 왼손잡이는 왼손 엄지손가락을 사용합니다.\n",
        "\n",
        "\n"
      ],
      "metadata": {
        "id": "9OKsH2uOiE6T"
      }
    },
    {
      "cell_type": "code",
      "execution_count": 8,
      "metadata": {
        "id": "4mKuvmfXhhDR"
      },
      "outputs": [],
      "source": [
        "def solution(numbers, hand):\n",
        "    answer = ''\n",
        "    left = [1, 4, 7, 10]\n",
        "    right = [3, 6, 9, 12]\n",
        "    left_finger = 10\n",
        "    right_finger = 12\n",
        "\n",
        "    for i in numbers:\n",
        "      if i in left:\n",
        "        answer = answer + \"L\"\n",
        "        left_finger = i\n",
        "      elif i in right:\n",
        "        answer  = answer + \"R\"\n",
        "        right_finger = i\n",
        "      else:\n",
        "        if i == 0:\n",
        "          i = 11\n",
        "        move_left = (abs(i-left_finger)%3) + (abs(i-left_finger)//3)\n",
        "        move_right = (abs(i-right_finger)%3) + (abs(i-right_finger)//3)\n",
        "\n",
        "        if move_left < move_right:\n",
        "          answer = answer + \"L\"\n",
        "          left_finger = i\n",
        "        elif move_right < move_left:\n",
        "          answer = answer + \"R\"\n",
        "          right_finger = i\n",
        "        else:\n",
        "          if hand == \"right\":\n",
        "            answer = answer + \"R\"\n",
        "            right_finger = i\n",
        "          if hand == \"left\":\n",
        "            answer = answer + \"L\"\n",
        "            left_finger = i\n",
        "\n",
        "    return answer"
      ]
    },
    {
      "cell_type": "code",
      "source": [
        "solution([1, 3, 4, 5, 8, 2, 1, 4, 5, 9, 5],\"right\")\n",
        "#result : \"LRLLLRLLRRL\""
      ],
      "metadata": {
        "colab": {
          "base_uri": "https://localhost:8080/",
          "height": 36
        },
        "id": "p6DmUNWnhoo5",
        "outputId": "396a675b-fc3e-4d9b-857e-3d5bf19467f9"
      },
      "execution_count": 9,
      "outputs": [
        {
          "output_type": "execute_result",
          "data": {
            "application/vnd.google.colaboratory.intrinsic+json": {
              "type": "string"
            },
            "text/plain": [
              "'LRLLLRLLRRL'"
            ]
          },
          "metadata": {},
          "execution_count": 9
        }
      ]
    },
    {
      "cell_type": "code",
      "source": [
        ""
      ],
      "metadata": {
        "id": "CDOhqwssmI35"
      },
      "execution_count": null,
      "outputs": []
    }
  ]
}