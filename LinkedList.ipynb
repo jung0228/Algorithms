{
  "nbformat": 4,
  "nbformat_minor": 0,
  "metadata": {
    "colab": {
      "name": "LinkedList",
      "provenance": [],
      "collapsed_sections": [],
      "authorship_tag": "ABX9TyPsLo5wJy5Teyrk9KrPYz2D",
      "include_colab_link": true
    },
    "kernelspec": {
      "name": "python3",
      "display_name": "Python 3"
    },
    "language_info": {
      "name": "python"
    }
  },
  "cells": [
    {
      "cell_type": "markdown",
      "metadata": {
        "id": "view-in-github",
        "colab_type": "text"
      },
      "source": [
        "<a href=\"https://colab.research.google.com/github/jung0228/Algorithms/blob/main/LinkedList.ipynb\" target=\"_parent\"><img src=\"https://colab.research.google.com/assets/colab-badge.svg\" alt=\"Open In Colab\"/></a>"
      ]
    },
    {
      "cell_type": "markdown",
      "source": [
        "# linkedlist\n",
        "### 링크드 리스트는 기본적인 리스트와 작동방식이 다릅니다.\n",
        "### 기본적인 링크드 리스트는 [값, 주소] -> [값, 주소] -> ''' [값, 끝] 다음과 같이 구성됩니다.\n",
        "### 기본적인 링크드 리스트를 구현해 볼까요?"
      ],
      "metadata": {
        "id": "ii8jgQJ7mJyQ"
      }
    },
    {
      "cell_type": "markdown",
      "source": [
        "## 노드\n",
        "### 링크드 리스트를 구현하기 전에 노드를 먼저 구현해 봅시다.\n",
        "### 링크드 리스트는 노드를 연결해놓은 것 입니다. 때문에 노드를 구성하는 것이 먼저입니다.\n",
        "### 노드는 다음과 같이 생겼습니다."
      ],
      "metadata": {
        "id": "LifExdm5mp9Z"
      }
    },
    {
      "cell_type": "code",
      "execution_count": 2,
      "metadata": {
        "id": "62IXlAlIli2j"
      },
      "outputs": [],
      "source": [
        "class Node:\n",
        "  def __init__(self, item, next):\n",
        "    self.item = item\n",
        "    self.next = next"
      ]
    },
    {
      "cell_type": "markdown",
      "source": [
        "### 노드 자체는 정말 간단하게 생겼습니다. 그렇다면 이것을 어떻게 연결 할까요?\n",
        "### 연결하기 전에 우리는 더미 노드라는 것에 대해 생각을 해봐야 합니다.\n",
        "### 더미 노드는 맨 앞에 있는 노드를 말합니다. 노드의 머리(head)라고 할 수 있는 존재입니다.\n",
        "### 더미 노드를 사용하면 좋은 점은 맨 앞에 노드를 추가하더라도 머리(head)를 바꿀 필요가 없기 때문입니다. 이게 왜 장점인지 코드를 통해 보겠습니다."
      ],
      "metadata": {
        "id": "vhprrXD5nBas"
      }
    },
    {
      "cell_type": "markdown",
      "source": [
        "### 우선 구현할 기능은 클래스 내부 함수인 \n",
        "### item이 있는 노드 인덱스 찾기(__findNode)와 i번째 노드 받기(__getNode) 입니다.\n",
        "### 다음은 추가, 삭제 그리고 삽입입니다. "
      ],
      "metadata": {
        "id": "F2WpgFuBn1-P"
      }
    },
    {
      "cell_type": "code",
      "source": [
        "class LinkedList:\n",
        "  def __init__(self):\n",
        "    print(\"링크드 리스트가 정상적으로 생성되었습니다.\")\n",
        "    self.__head = Node(\"dummy\", None)\n",
        "    self.__numItems = 0\n",
        "\n",
        "  def __findNode(self, x):\n",
        "    prev = self.__head\n",
        "    curr = prev.next\n",
        "\n",
        "    # curr가 비어있다면 prev는 마지막 노드입니다.\n",
        "    # prev가 마지막 노드일 때까지 진행해줍니다.\n",
        "    while curr != None:\n",
        "      # insert를 고려해서 2개의 노드를 받습니다.\n",
        "      if curr.item == x:\n",
        "        return prev, curr\n",
        "      prev = curr\n",
        "      curr = curr.next\n",
        "    \n",
        "    # x가 없으면 None을 반환해줍시다.\n",
        "    return (None, None)\n",
        "    \n",
        "\n",
        "\n",
        "  def  __getNode(self, i):\n",
        "    # i가 -1이면 헤드를 반환해도록 만들어 오류를 없애줍시다.\n",
        "    if i == -1:\n",
        "      return self.__head\n",
        "\n",
        "    curr = self.__head.next\n",
        "\n",
        "    # i가 0이라면 실행하지 않습니다. \n",
        "    for idx in range(i):\n",
        "      curr = curr.next\n",
        "    return curr\n",
        "  \n",
        "  #리스트의 맨 뒤에 추가해 줍니다.\n",
        "  def append(self, x):\n",
        "    #인덱스는 0부터 시작이니까 -1을 해줍니다.\n",
        "    newNode = Node(x, None)\n",
        "    tail = self.__getNode(self.__numItems - 1)\n",
        "    tail.next = newNode\n",
        "    self.__numItems += 1\n",
        "\n",
        "  \n",
        "  # 2가지 삭제 기능을 만들어줍니다.\n",
        "  # 1번째는 인덱스를 기반으로 한 삭제입니다.\n",
        "  # pop 의 경우에는 아이템을 반환합니다.\n",
        "  def pop(self, i):\n",
        "    if (self.__numItems-1) < i or i<0:\n",
        "      print(\"There is no item\")\n",
        "      return None\n",
        "    else:\n",
        "      print(f\"리스트에서 {i}번째 인덱스를 제거(pop)해줍니다.\")\n",
        "      \n",
        "      prev = self.__getNode(i-1)\n",
        "      curr = prev.next\n",
        "      item = curr.item\n",
        "      # prev curr curr.next 가 있습니다. 여기서 우리는 curr를 없애고 싶습니다\n",
        "      # 때문에 prev.next가 curr.next를 가리키게 만들면 됩니다.\n",
        "      # 이러한 삭제 관점에서 일번적인 배열리스트보다 연결리스트가 우위에 있습니다.\n",
        "      prev.next = curr.next\n",
        "      self.__numItems -= 1\n",
        "\n",
        "      return item\n",
        "\n",
        "  # 2번째는 아이템 기반의 삭제입니다.\n",
        "  def remove(self, x):\n",
        "    prev, curr = self.__findNode(x)\n",
        "    if curr == None:\n",
        "      print(f\"리스트에 {x}가 없습니다.\")\n",
        "      return None\n",
        "    else:\n",
        "      print(f\"리스트에서 {x}를 제거(remove)해줍니다.\")\n",
        "      prev.next = curr.next\n",
        "      self.__numItems -= 1\n",
        "\n",
        "  \n",
        "  # 마지막으로 삽입에 대해 살펴봅시다. \n",
        "  # 삽입의 원리는 prev, curr 사이에 노드를 추가하는 것 입니다. \n",
        "  # 때문에 prev.next = newNode의 형식이 되어야 합니다. \n",
        "  def insert(self, i:int, x):\n",
        "    print(f\"{i}번째 인덱스에 {x}을 삽입(insert)합니다.\")\n",
        "    # 예외처리를 해줍니다.\n",
        "    if i >= 0 and i<=self.__numItems:\n",
        "      prev = self.__getNode(i-1)\n",
        "      newNode = Node(x, prev.next)\n",
        "      prev.next = newNode\n",
        "      self.__numItems += 1\n",
        "    else:\n",
        "      print(\"There is no Node\")\n",
        "      return None\n",
        "\n",
        "  \n",
        "  # 연결된 노드들을 모두 출력해주기\n",
        "  def printNode(self):\n",
        "    print(\"LinkedList: \", end=\"\")\n",
        "    prev = self.__head\n",
        "    curr = prev.next\n",
        "    while curr != None:\n",
        "      print(curr.item, end=\" \")\n",
        "      curr = curr.next"
      ],
      "metadata": {
        "id": "zTm5I_zPndTF"
      },
      "execution_count": 3,
      "outputs": []
    },
    {
      "cell_type": "markdown",
      "source": [
        "### 이제 기능을 테스트 해 봅시다."
      ],
      "metadata": {
        "id": "itH1j2vRx5-X"
      }
    },
    {
      "cell_type": "code",
      "source": [
        "def main():\n",
        "  test_list = LinkedList()\n",
        "  print(\"\\n\")\n",
        "\n",
        "\n",
        "  test_list.append(10)\n",
        "  test_list.append(29)\n",
        "  test_list.append(43)\n",
        "\n",
        "  print(\"리스트에 10 29 43을 추가(append)해줍니다.\")\n",
        "  test_list.printNode()\n",
        "  print(\"\\n\\n\")\n",
        "\n",
        "  test_list.remove(29)\n",
        "  test_list.printNode()\n",
        "  print(\"\\n\\n\")\n",
        "\n",
        "  test_list.remove(9999)\n",
        "  test_list.printNode()\n",
        "  print(\"\\n\\n\")\n",
        "\n",
        "  print(f\"0번째 : {test_list.pop(0)}\")\n",
        "  test_list.printNode()\n",
        "  print(\"\\n\\n\")\n",
        "\n",
        "  print(f\"-1번째 : {test_list.pop(-1)}\")\n",
        "  test_list.printNode()\n",
        "  print(\"\\n\\n\")\n",
        "\n",
        "  test_list.insert(0, 410)\n",
        "  test_list.printNode()\n",
        "  print(\"\\n\\n\")\n",
        "\n",
        "  test_list.insert(1111, 9999)\n",
        "  test_list.printNode()\n",
        "  print(\"\\n\\n\")\n"
      ],
      "metadata": {
        "id": "HjRMOa_HpjJs"
      },
      "execution_count": 4,
      "outputs": []
    },
    {
      "cell_type": "code",
      "source": [
        "main()"
      ],
      "metadata": {
        "colab": {
          "base_uri": "https://localhost:8080/"
        },
        "id": "l9neu6F8EoLI",
        "outputId": "33de3c31-3955-4ea3-bd25-cbb4394d8716"
      },
      "execution_count": 5,
      "outputs": [
        {
          "output_type": "stream",
          "name": "stdout",
          "text": [
            "링크드 리스트가 정상적으로 생성되었습니다.\n",
            "\n",
            "\n",
            "리스트에 10 29 43을 추가(append)해줍니다.\n",
            "LinkedList: 10 29 43 \n",
            "\n",
            "\n",
            "리스트에서 29를 제거(remove)해줍니다.\n",
            "LinkedList: 10 43 \n",
            "\n",
            "\n",
            "리스트에 9999가 없습니다.\n",
            "LinkedList: 10 43 \n",
            "\n",
            "\n",
            "리스트에서 0번째 인덱스를 제거(pop)해줍니다.\n",
            "0번째 : 10\n",
            "LinkedList: 43 \n",
            "\n",
            "\n",
            "There is no item\n",
            "-1번째 : None\n",
            "LinkedList: 43 \n",
            "\n",
            "\n",
            "0번째 인덱스에 410을 삽입(insert)합니다.\n",
            "LinkedList: 410 43 \n",
            "\n",
            "\n",
            "1111번째 인덱스에 9999을 삽입(insert)합니다.\n",
            "There is no Node\n",
            "LinkedList: 410 43 \n",
            "\n",
            "\n"
          ]
        }
      ]
    },
    {
      "cell_type": "code",
      "source": [
        ""
      ],
      "metadata": {
        "id": "6FU0wTQBEozs"
      },
      "execution_count": null,
      "outputs": []
    }
  ]
}