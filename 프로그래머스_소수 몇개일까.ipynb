{
  "nbformat": 4,
  "nbformat_minor": 0,
  "metadata": {
    "colab": {
      "name": "썼다 지웠다.ipynb",
      "provenance": [],
      "collapsed_sections": [],
      "authorship_tag": "ABX9TyO7tLbuPHNPeH4kyB8EHgqa",
      "include_colab_link": true
    },
    "kernelspec": {
      "name": "python3",
      "display_name": "Python 3"
    },
    "language_info": {
      "name": "python"
    }
  },
  "cells": [
    {
      "cell_type": "markdown",
      "metadata": {
        "id": "view-in-github",
        "colab_type": "text"
      },
      "source": [
        "<a href=\"https://colab.research.google.com/github/jung0228/Algorithms/blob/main/%ED%94%84%EB%A1%9C%EA%B7%B8%EB%9E%98%EB%A8%B8%EC%8A%A4_%EC%86%8C%EC%88%98%20%EB%AA%87%EA%B0%9C%EC%9D%BC%EA%B9%8C.ipynb\" target=\"_parent\"><img src=\"https://colab.research.google.com/assets/colab-badge.svg\" alt=\"Open In Colab\"/></a>"
      ]
    },
    {
      "cell_type": "code",
      "execution_count": 84,
      "metadata": {
        "id": "mfpz8CupMa2n"
      },
      "outputs": [],
      "source": [
        "from itertools import combinations\n",
        "\n",
        "def is_prime_number(x):\n",
        "    for i in range(2, x):\n",
        "        if x % i == 0:\n",
        "            return False \n",
        "    return True \n",
        "\n",
        "def solution(nums):\n",
        "    answer = 0\n",
        "\n",
        "    for j in list(combinations(nums, 3)):\n",
        "      if is_prime_number(sum(j)):\n",
        "        answer += 1\n",
        "    return answer"
      ]
    },
    {
      "cell_type": "code",
      "source": [
        "solution([1,2,3,4])"
      ],
      "metadata": {
        "colab": {
          "base_uri": "https://localhost:8080/"
        },
        "id": "lbycjBzAMh0H",
        "outputId": "e30afe17-fae7-4026-b041-b1ff22d92ea0"
      },
      "execution_count": 85,
      "outputs": [
        {
          "output_type": "execute_result",
          "data": {
            "text/plain": [
              "1"
            ]
          },
          "metadata": {},
          "execution_count": 85
        }
      ]
    }
  ]
}