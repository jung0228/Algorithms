{
  "nbformat": 4,
  "nbformat_minor": 0,
  "metadata": {
    "colab": {
      "name": "정렬_가장큰수.ipynb",
      "provenance": [],
      "authorship_tag": "ABX9TyOrNugBAn7xNgByFIBs476W",
      "include_colab_link": true
    },
    "kernelspec": {
      "name": "python3",
      "display_name": "Python 3"
    },
    "language_info": {
      "name": "python"
    }
  },
  "cells": [
    {
      "cell_type": "markdown",
      "metadata": {
        "id": "view-in-github",
        "colab_type": "text"
      },
      "source": [
        "<a href=\"https://colab.research.google.com/github/jung0228/Algorithms/blob/main/%EC%A0%95%EB%A0%AC_%EA%B0%80%EC%9E%A5%ED%81%B0%EC%88%98.ipynb\" target=\"_parent\"><img src=\"https://colab.research.google.com/assets/colab-badge.svg\" alt=\"Open In Colab\"/></a>"
      ]
    },
    {
      "cell_type": "code",
      "execution_count": 1,
      "metadata": {
        "id": "u4REzlAacBYM"
      },
      "outputs": [],
      "source": [
        "def solution(numbers):\n",
        "    answer = ''\n",
        "    numbers = list(map(str, numbers))\n",
        "    numbers.sort(key = lambda x: x*3, reverse=True)\n",
        "    answer = int(\"\".join(numbers))\n",
        "    \n",
        "    return str(answer)"
      ]
    },
    {
      "cell_type": "code",
      "source": [
        "solution([6, 10, 2])"
      ],
      "metadata": {
        "colab": {
          "base_uri": "https://localhost:8080/",
          "height": 38
        },
        "id": "PptCI-fMcDpU",
        "outputId": "f6317d4a-a3b1-457c-b531-aa186337658b"
      },
      "execution_count": 2,
      "outputs": [
        {
          "output_type": "execute_result",
          "data": {
            "application/vnd.google.colaboratory.intrinsic+json": {
              "type": "string"
            },
            "text/plain": [
              "'6210'"
            ]
          },
          "metadata": {},
          "execution_count": 2
        }
      ]
    }
  ]
}